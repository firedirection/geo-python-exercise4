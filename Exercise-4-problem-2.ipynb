{
 "cells": [
  {
   "cell_type": "markdown",
   "metadata": {
    "deletable": false,
    "editable": false,
    "nbgrader": {
     "checksum": "d6339793636a52e769e9f7afee20f927",
     "grade": false,
     "grade_id": "cell-876e2442239d92c8",
     "locked": true,
     "schema_version": 1,
     "solution": false
    }
   },
   "source": [
    "## Problem 2 (*7 points*)\n",
    "\n",
    "In the [last week's exercise (Problem 2)](https://github.com/Geo-Python-2018/Exercise-3/blob/master/Exercise-3-problem-2.ipynb) we practiced how to classify temperatures\n",
    "into four different classes (*i.e. cold, slippery, comfortable, warm*). Let's continue working with the same idea. Here, you should create a function that\n",
    "accepts a temperature value in Celsius that will be reclassified into integer numbers 0-3 based on following criteria:\n",
    "\n",
    " | Return value | Classification criteria                  |\n",
    " |---|-----------------------------------------------------|\n",
    " | 0 | temperatures below -2 degrees (Celsius)             |\n",
    " | 1 | temperatures equal or higher than -2 up to +2 degrees (Celsius)  |\n",
    " | 2 | temperatures equal or higher than +2 up to +15 degrees (Celsius)  |\n",
    " | 3 | temperatures equal or higher than +15 degrees (Celsius)            |\n",
    "\n",
    "\n",
    "You should do following (also criteria for grading):\n",
    "\n",
    "  - create a new function called `temp_classifier` **(1.0 points)**\n",
    "  - `temp_classifier` should have one parameter called `temp_celsius` **(0.5 points)**\n",
    "  - your function should reclassify the input temperature based on the criteria on the above table. **(2.0 points)**\n",
    "  - return the reclassified value as an integer number (i.e. number 0, 1, 2, or 3) **(1.0 points)**\n",
    "  - comment your code and add a docstring that explains how to use your `temp_classifier` function (i.e. you should write the purpose of the function, parameters, and return value(s)) **(1.0 points)**\n",
    "  - test and use your newly created function **(1.0 points)**\n",
    "  - Commit the changes of your code to your own GitHub Exercise 4 repository **(0.5 points)**\n",
    "  \n",
    "    "
   ]
  },
  {
   "cell_type": "code",
   "execution_count": 15,
   "metadata": {
    "deletable": false,
    "nbgrader": {
     "checksum": "e8127435200fa9b95484e2a9f23c8b4a",
     "grade": false,
     "grade_id": "temp_classifier",
     "locked": false,
     "schema_version": 1,
     "solution": true
    }
   },
   "outputs": [],
   "source": [
    "from pleasethistime import temp_classifier"
   ]
  },
  {
   "cell_type": "markdown",
   "metadata": {
    "deletable": false,
    "editable": false,
    "nbgrader": {
     "checksum": "45ff16658e219a788319c2ef7212a5a0",
     "grade": false,
     "grade_id": "cell-f4a8e418905fb50e",
     "locked": true,
     "schema_version": 1,
     "solution": false
    }
   },
   "source": [
    "- **Test and use** your newly created function by finding the results for following questions (you need to write code that uses your function and returns answers):"
   ]
  },
  {
   "cell_type": "code",
   "execution_count": null,
   "metadata": {
    "collapsed": true,
    "deletable": false,
    "editable": false,
    "nbgrader": {
     "checksum": "c42d66e30725fcb52fc0aa7e1bb93116",
     "grade": true,
     "grade_id": "temp_classifier_test",
     "locked": true,
     "points": 7,
     "schema_version": 1,
     "solution": false
    }
   },
   "outputs": [],
   "source": [
    "## 1. What is class value for 16.5 degrees (Celsius)?\n",
    "\n",
    "# 2. What is the class value for +2 degrees (Celsius)?\n"
   ]
  },
  {
   "cell_type": "markdown",
   "metadata": {
    "deletable": false,
    "editable": false,
    "nbgrader": {
     "checksum": "ce902498612244bb33e804499eee0168",
     "grade": false,
     "grade_id": "cell-31016daaf1c494e1",
     "locked": true,
     "schema_version": 1,
     "solution": false
    }
   },
   "source": [
    "#### Done!\n",
    "\n",
    "That's it! Now you are ready to continue with [Problem 3](Exercise-4-problem-3.ipynb)."
   ]
  },
  {
   "cell_type": "code",
   "execution_count": 16,
   "metadata": {},
   "outputs": [
    {
     "name": "stdout",
     "output_type": "stream",
     "text": [
      "3\n"
     ]
    }
   ],
   "source": [
    "print(temp_classifier(16.5))"
   ]
  },
  {
   "cell_type": "code",
   "execution_count": null,
   "metadata": {
    "collapsed": true
   },
   "outputs": [],
   "source": []
  }
 ],
 "metadata": {
  "kernelspec": {
   "display_name": "Python 3",
   "language": "python",
   "name": "python3"
  },
  "language_info": {
   "codemirror_mode": {
    "name": "ipython",
    "version": 3
   },
   "file_extension": ".py",
   "mimetype": "text/x-python",
   "name": "python",
   "nbconvert_exporter": "python",
   "pygments_lexer": "ipython3",
   "version": "3.7.3"
  }
 },
 "nbformat": 4,
 "nbformat_minor": 2
}
