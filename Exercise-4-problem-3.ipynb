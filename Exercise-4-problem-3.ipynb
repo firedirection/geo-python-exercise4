{
 "cells": [
  {
   "cell_type": "markdown",
   "metadata": {
    "deletable": false,
    "editable": false,
    "nbgrader": {
     "checksum": "f496bc82bbb5335d1e5788ac461dfed5",
     "grade": false,
     "grade_id": "cell-db10a919018a5c73",
     "locked": true,
     "schema_version": 1,
     "solution": false
    }
   },
   "source": [
    "## Problem 3 - Classify temperatures (7 points)\n",
    "\n",
    "Finally, we can bring together the pieces that we have created thus far. In the last problem your aim is to take\n",
    "advantage of your new functions and reclassify a dataset of temperatures in Fahrenheit into four different classes.\n",
    "\n",
    "The temperature values are provided below and they look like following:\n",
    "\n",
    "  ```\n",
    "  # List of half-hourly temperature values (in degrees Fahrenheit) for one week\n",
    "  # Showing first two rows\n",
    "  tempData = [19, 21, 21, 21, 23, 23, 23, 21, 19, 21, 19, 21, 23, 27, 27, 28, 30, 30, 32, 32, 32, 32, 34, 34,\n",
    "               34, 36, 36, 36, 36, 36, 36, 34, 34, 34, 34, 34, 34, 32, 30, 30, 30, 28, 28, 27, 27, 27, 23, 23, ]\n",
    "  ```\n",
    "\n",
    "### Overview\n",
    "\n",
    "The analysis process has three main steps:\n",
    "\n",
    " 1. Read in the data from the data cell (execute it) and iterate over the Fahrenheit temperatures.\n",
    " 2. Convert the Fahrenheit temperature to Celsius using your `fahr_to_celsius` function from that was created in Problem 1.\n",
    " 3. Classify the converted temperature using the `temp_classifier` function that was created in Problem 2.\n",
    "\n",
    "**This problem contains two parts**. In part 1, you should do following (part 2 continues below):\n",
    "\n",
    "**Part 1**\n",
    "\n",
    " - Create a new **script** -file called `temp_functions.py` into your `exercise-4-username` directory as we saw in Lesson 4 materials. Copy and paste the functions that you wrote in Problem 1 and Problem 2, into that script file (i.e. functions `fahrt_to_celsius` and `temp_classifier`).\n",
    " - Save the script file (CNTRL + S), and continue working on **this** Notebook (i.e. `Exercise-4-problem-3.ipynb`).\n",
    " \n",
    "**Continue working on Part 2 below**"
   ]
  },
  {
   "cell_type": "code",
   "execution_count": 5,
   "metadata": {
    "deletable": false,
    "editable": false,
    "nbgrader": {
     "checksum": "91b1e50df753ce5047e9235ed9ce2485",
     "grade": false,
     "grade_id": "data",
     "locked": true,
     "schema_version": 1,
     "solution": false
    }
   },
   "outputs": [],
   "source": [
    "# List of half-hourly temperature values (in degrees Fahrenheit) for one week\n",
    "temp_data =  [19, 21, 21, 21, 23, 23, 23, 21, 19, 21, 19, 21, 23, 27, 27, 28, 30, 30, 32, 32, 32, 32, 34, 34,\n",
    "             34, 36, 36, 36, 36, 36, 36, 34, 34, 34, 34, 34, 34, 32, 30, 30, 30, 28, 28, 27, 27, 27, 23, 23,\n",
    "             21, 21, 21, 19, 19, 19, 18, 18, 21, 27, 28, 30, 32, 34, 36, 37, 37, 37, 39, 39, 39, 39, 39, 39,\n",
    "             41, 41, 41, 41, 41, 39, 39, 37, 37, 36, 36, 34, 34, 32, 30, 30, 28, 27, 27, 25, 23, 23, 21, 21,\n",
    "             19, 19, 19, 18, 18, 18, 21, 25, 27, 28, 34, 34, 41, 37, 37, 39, 39, 39, 39, 41, 41, 39, 39, 39,\n",
    "             39, 39, 41, 39, 39, 39, 37, 36, 34, 32, 28, 28, 27, 25, 25, 25, 23, 23, 23, 23, 21, 21, 21, 21,\n",
    "             19, 21, 19, 21, 21, 19, 21, 27, 28, 32, 36, 36, 37, 39, 39, 39, 39, 39, 41, 41, 41, 41, 41, 41,\n",
    "             41, 41, 41, 39, 37, 36, 36, 34, 32, 30, 28, 28, 27, 27, 25, 25, 23, 23, 23, 21, 21, 21, 19, 19,\n",
    "             19, 19, 19, 19, 21, 23, 23, 23, 25, 27, 30, 36, 37, 37, 39, 39, 41, 41, 41, 39, 39, 41, 43, 43,\n",
    "             43, 43, 43, 43, 43, 43, 43, 39, 37, 37, 37, 36, 36, 36, 36, 34, 32, 32, 32, 32, 30, 30, 28, 28,\n",
    "             28, 27, 27, 27, 27, 25, 27, 27, 27, 28, 28, 28, 30, 32, 32, 32, 34, 34, 36, 36, 36, 37, 37, 37,\n",
    "             37, 37, 37, 37, 37, 37, 36, 34, 30, 30, 27, 27, 25, 25, 23, 21, 21, 21, 21, 19, 19, 19, 19, 19,\n",
    "             18, 18, 18, 18, 18, 19, 23, 27, 30, 32, 32, 32, 32, 32, 32, 34, 34, 34, 34, 34, 36, 36, 36, 36,\n",
    "             36, 32, 32, 32, 32, 32, 32, 32, 32, 30, 30, 30, 30, 30, 30, 30, 30, 30, 30, 30, 30, 30, 28, 28]"
   ]
  },
  {
   "cell_type": "markdown",
   "metadata": {
    "deletable": false,
    "editable": false,
    "nbgrader": {
     "checksum": "ed6c86e1def32b547191ad71f1fba0ca",
     "grade": false,
     "grade_id": "cell-2affd0ad8ec6bc82",
     "locked": true,
     "schema_version": 1,
     "solution": false
    }
   },
   "source": [
    "**Part 2**\n",
    " \n",
    "The following parts you should write to the cells below.\n",
    "\n",
    " - Import the `fahr_to_celsius` and `temp_classifier` functions from `temp_functions.py`\n",
    " - Create an empty list called `temp_classes` (which will be filled with temperature class numbers later)\n",
    " - Iterate over the Fahrenheit temperature values in the `temp_data` list (one by one) and inside the loop:\n",
    "    - Create a new variable called `temp_celsius` in which you should assign the temperature in Celsius using the `fahr_to_celsius` function to convert the Fahrenheit temperature into Celsius.\n",
    "    - Create a new variable called `temp_class` in which you should assign the temperature class number (0, 1, 2, or 3) using the `temp_classifier` function\n",
    "    - Add the `temp_class` value to the `temp_classes` list\n",
    " - Ensure that you have commented well your code about how it works.\n",
    " - Commit your 1) `temp_functions.py` -script and 2) your changes to this notebook to your own GitHub repository for Exercise 4."
   ]
  },
  {
   "cell_type": "code",
   "execution_count": 6,
   "metadata": {
    "deletable": false,
    "nbgrader": {
     "checksum": "112b4ea8f6a1c67cdc4f020b3997e902",
     "grade": false,
     "grade_id": "functions_usage",
     "locked": false,
     "schema_version": 1,
     "solution": true
    }
   },
   "outputs": [],
   "source": [
    "from temp_funtions import fahr_to_celsius \n",
    "\n",
    "from temp_funtions import temp_classifier\n",
    "\n"
   ]
  },
  {
   "cell_type": "code",
   "execution_count": 7,
   "metadata": {},
   "outputs": [],
   "source": [
    "temp_classes= []\n"
   ]
  },
  {
   "cell_type": "code",
   "execution_count": 8,
   "metadata": {},
   "outputs": [],
   "source": [
    "for i in range(len(temp_data)):\n",
    "    temp_celsius = fahr_to_celsius(temp_data[i])\n",
    "    temp_class = temp_classifier(temp_celsius)\n",
    "    temp_classes.append(temp_class)"
   ]
  },
  {
   "cell_type": "markdown",
   "metadata": {
    "deletable": false,
    "editable": false,
    "nbgrader": {
     "checksum": "7fe065a91ff6c068ab39c6d3cacfbcdb",
     "grade": false,
     "grade_id": "cell-aac56115e51f1ecd",
     "locked": true,
     "schema_version": 1,
     "solution": false
    }
   },
   "source": [
    "**How many temperatures are there within each temperature class?**\n",
    "\n",
    "1. Create four variables called `zeros`, `ones`, `twos`, and `threes` \n",
    "2. Count and assign to each variable how many times values 0, 1, 2, and 3 are present in the `temp_classes` list and print out the results below. I.e. assign the value of how many `0` values the list has into variable `zeros`, and so on. \n",
    "  \n",
    "**TIP**: You might want to consider using a [**count()** -function](https://www.tutorialspoint.com/python3/list_count.htm) OR a for loop to handle this."
   ]
  },
  {
   "cell_type": "code",
   "execution_count": 9,
   "metadata": {},
   "outputs": [
    {
     "name": "stdout",
     "output_type": "stream",
     "text": [
      "[0, 0, 0, 0, 0, 0, 0, 0, 0, 0, 0, 0, 0, 0, 0, 0, 1, 1, 1, 1, 1, 1, 1, 1, 1, 2, 2, 2, 2, 2, 2, 1, 1, 1, 1, 1, 1, 1, 1, 1, 1, 0, 0, 0, 0, 0, 0, 0, 0, 0, 0, 0, 0, 0, 0, 0, 0, 0, 0, 1, 1, 1, 2, 2, 2, 2, 2, 2, 2, 2, 2, 2, 2, 2, 2, 2, 2, 2, 2, 2, 2, 2, 2, 1, 1, 1, 1, 1, 0, 0, 0, 0, 0, 0, 0, 0, 0, 0, 0, 0, 0, 0, 0, 0, 0, 0, 1, 1, 2, 2, 2, 2, 2, 2, 2, 2, 2, 2, 2, 2, 2, 2, 2, 2, 2, 2, 2, 2, 1, 1, 0, 0, 0, 0, 0, 0, 0, 0, 0, 0, 0, 0, 0, 0, 0, 0, 0, 0, 0, 0, 0, 0, 0, 1, 2, 2, 2, 2, 2, 2, 2, 2, 2, 2, 2, 2, 2, 2, 2, 2, 2, 2, 2, 2, 2, 1, 1, 1, 0, 0, 0, 0, 0, 0, 0, 0, 0, 0, 0, 0, 0, 0, 0, 0, 0, 0, 0, 0, 0, 0, 0, 0, 1, 2, 2, 2, 2, 2, 2, 2, 2, 2, 2, 2, 2, 2, 2, 2, 2, 2, 2, 2, 2, 2, 2, 2, 2, 2, 2, 2, 2, 1, 1, 1, 1, 1, 1, 1, 0, 0, 0, 0, 0, 0, 0, 0, 0, 0, 0, 0, 0, 0, 1, 1, 1, 1, 1, 1, 2, 2, 2, 2, 2, 2, 2, 2, 2, 2, 2, 2, 2, 1, 1, 1, 0, 0, 0, 0, 0, 0, 0, 0, 0, 0, 0, 0, 0, 0, 0, 0, 0, 0, 0, 0, 0, 0, 1, 1, 1, 1, 1, 1, 1, 1, 1, 1, 1, 1, 2, 2, 2, 2, 2, 1, 1, 1, 1, 1, 1, 1, 1, 1, 1, 1, 1, 1, 1, 1, 1, 1, 1, 1, 1, 1, 0, 0]\n"
     ]
    }
   ],
   "source": [
    "print(temp_classes)"
   ]
  },
  {
   "cell_type": "code",
   "execution_count": null,
   "metadata": {
    "deletable": false,
    "editable": false,
    "nbgrader": {
     "checksum": "f1b40ec545b5163ea11982ffdf1f1f1b",
     "grade": true,
     "grade_id": "functions_usage_test",
     "locked": true,
     "points": 7,
     "schema_version": 1,
     "solution": false
    }
   },
   "outputs": [],
   "source": [
    "# 1. How many 0 values exist in temp_classes -list?\n",
    "\n",
    "# 2. How many 1 values exist in temp_classes -list?\n",
    "\n",
    "# 3. How many 2 values exist in temp_classes -list?\n",
    "\n",
    "# 4. How many 3 values exist in temp_classes -list?\n"
   ]
  },
  {
   "cell_type": "markdown",
   "metadata": {
    "deletable": false,
    "editable": false,
    "nbgrader": {
     "checksum": "3c210726831cc8a6476a5e47da61c031",
     "grade": false,
     "grade_id": "cell-b4a6387bf95866ff",
     "locked": true,
     "schema_version": 1,
     "solution": false
    }
   },
   "source": [
    "#### All done!\n",
    "\n",
    "That's it! Now you have finished all the problems for Exercise 4! Remember to push all your changes and codes to your personal GitHub Exercise-4 repository (including the `temp_functions.py` -script)."
   ]
  }
 ],
 "metadata": {
  "kernelspec": {
   "display_name": "Python 3",
   "language": "python",
   "name": "python3"
  },
  "language_info": {
   "codemirror_mode": {
    "name": "ipython",
    "version": 3
   },
   "file_extension": ".py",
   "mimetype": "text/x-python",
   "name": "python",
   "nbconvert_exporter": "python",
   "pygments_lexer": "ipython3",
   "version": "3.7.3"
  }
 },
 "nbformat": 4,
 "nbformat_minor": 2
}
