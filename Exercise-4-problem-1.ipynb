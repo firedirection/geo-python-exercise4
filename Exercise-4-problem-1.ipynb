{
 "cells": [
  {
   "cell_type": "markdown",
   "metadata": {
    "deletable": false,
    "editable": false,
    "nbgrader": {
     "checksum": "c2c776295292569e6b0cbadc5560324b",
     "grade": false,
     "grade_id": "cell-2ed044cb8a3a375f",
     "locked": true,
     "schema_version": 1,
     "solution": false
    }
   },
   "source": [
    "# Exercise 4: Classifying and converting temperatures\n",
    "\n",
    "The exercise for this week is meant to help you to understand how to use functions in Python.\n",
    "In this week's exercise you are asked to create a simple tool that converts temperatures from\n",
    "one temperature-type to another and then classify those temperatures into specific temperature classes.\n",
    "\n",
    "After making your changes, you will need to upload your files to GitHub.\n",
    "The answers to the questions in this week's exercise should be given by modifying the document in places where asked or at the end of this document in the [section titled Answers](#answers).\n",
    "\n",
    "- **Exercise 4 is due by the start of lecture on 3.10.**\n",
    "- Don't forget to check out [the hints for this week's exercise](https://geo-python.github.io/2018/lessons/L4/exercise-4-hints.html) if you're having trouble.\n",
    "- Scores on this exercise are out of 20 points.\n",
    "\n",
    "## Problem 0 - Mid-term course feedback requested\n",
    "\n",
    "Before you get started on the exercise, we'd like for you to take 5 minutes to provide us with some feedback on how the course is going so far.\n",
    "This is the second time we're teaching the course in this format, and we would be very pleased to have your honest thoughts (positive or negative) about how things are going.\n",
    "Feedback is **completely anonymous**.\n",
    "\n",
    "[**Course feedback e-form**](https://elomake.helsinki.fi/lomakkeet/92231/lomake.html)\n",
    "\n",
    "## Problem 1 - Simple temperature calculator (6 points)\n",
    "\n",
    "In the first problem your aim is to create a function that converts the input temperature from degrees Fahrenheit to degrees Celsius. Follow closely the instructions and use **exactly** the same variable, function, and parameter names as stated in the instructions because we use automatic grading to check your codes.\n",
    "\n",
    "Your code should do following (criteria for grading), :\n",
    "\n",
    "\n",
    "  - Create a function called `fahr_to_celsius` \n",
    "\n",
    "  - The function should have one input parameter called `temp_fahrenheit`\n",
    "\n",
    "  - Inside the function, create a variable called `converted_temp` to which you should assign the conversion result (i.e., the input Fahrenheit temperature converted to Celsius)\n",
    "\n",
    "  - The conversion formula from Fahrenheit to Celsius is:\n",
    "\n",
    "![](img/Fahrenheit_to_Celsius_formula.PNG)\n",
    "\n",
    "\n",
    "  - Return the converted value from the function back to the user\n",
    "  - Comment your code and add a docstring that explains how to use your `fahr_to_celsius` function (i.e., you should write the purpose of the function, parameters, and returned values)\n",
    "\n",
    "  - Upload and commit your code into your own GitHub repository for Exercise 4\n",
    "  \n",
    "If everything in your script is working properly the following test case should work:\n",
    "\n",
    "  ```python\n",
    "  >>> print(\"32 degrees Fahrenheit in Celsius is:\", fahr_to_celsius(32))\n",
    "  32 degrees Fahrenheit in Celsius is: 0.0\n",
    "  ```"
   ]
  },
  {
   "cell_type": "code",
   "execution_count": 3,
   "metadata": {
    "deletable": false,
    "nbgrader": {
     "checksum": "3363ce2d6c32be09401c8be9927444e4",
     "grade": false,
     "grade_id": "fahr_to_celsius",
     "locked": false,
     "schema_version": 1,
     "solution": true
    }
   },
   "outputs": [],
   "source": [
    "def fahr_to_celsius(temp_fahrenheit):\n",
    "    converted_temp = (temp_fahrenheit - 32)/1.8\n",
    "    return converted_temp "
   ]
  },
  {
   "cell_type": "code",
   "execution_count": 4,
   "metadata": {},
   "outputs": [
    {
     "name": "stdout",
     "output_type": "stream",
     "text": [
      "32 degrees Fahrenheit in Celsius is: 0.0\n"
     ]
    }
   ],
   "source": [
    "print(\"32 degrees Fahrenheit in Celsius is:\", fahr_to_celsius(32))"
   ]
  },
  {
   "cell_type": "markdown",
   "metadata": {
    "deletable": false,
    "editable": false,
    "nbgrader": {
     "checksum": "4e36fb3239ffdd42340c0f0e6342cf15",
     "grade": false,
     "grade_id": "cell-e931ae7f1d35850e",
     "locked": true,
     "schema_version": 1,
     "solution": false
    }
   },
   "source": [
    "- **Test and use** your newly created function by finding the results for following questions (you need to write code that uses your function and returns answers):"
   ]
  },
  {
   "cell_type": "code",
   "execution_count": null,
   "metadata": {
    "deletable": false,
    "editable": false,
    "nbgrader": {
     "checksum": "82525558d3f9ddc50de4bdaddea00043",
     "grade": true,
     "grade_id": "fahr_to_celsius_test",
     "locked": true,
     "points": 6,
     "schema_version": 1,
     "solution": false
    }
   },
   "outputs": [],
   "source": [
    "# 1. What is 48° Fahrenheit in Celsius? \n",
    "\n",
    "\n",
    "# 2. What about 71° Fahrenheit in Celsius?\n"
   ]
  },
  {
   "cell_type": "code",
   "execution_count": 5,
   "metadata": {},
   "outputs": [
    {
     "name": "stdout",
     "output_type": "stream",
     "text": [
      "8.88888888888889\n"
     ]
    }
   ],
   "source": [
    "print(fahr_to_celsius(48))"
   ]
  },
  {
   "cell_type": "markdown",
   "metadata": {
    "deletable": false,
    "editable": false,
    "nbgrader": {
     "checksum": "be56ac07d89c360bed61e46f31b4bbe6",
     "grade": false,
     "grade_id": "problem1_questions",
     "locked": true,
     "schema_version": 1,
     "solution": false
    }
   },
   "source": [
    "### Questions for Problem 1\n",
    "\n",
    "We would like you to think about and answer the following questions based on the materials and ideas that you learned during the lecture:\n",
    "\n",
    "  1. Is the concept of function clear to you? If not, what do you not understand? (**0.25 points**)\n",
    "  2. What are the benefits of using functions? (**0.5 points**)\n",
    "  3. Does it matter in which order the functions are written in your code? If you think it does, why? (**0.25 points**)\n",
    "  \n",
    "Write your answers below (**activate the cell by double clicking**):"
   ]
  },
  {
   "cell_type": "markdown",
   "metadata": {
    "deletable": false,
    "nbgrader": {
     "checksum": "322fb6a5a94a14a9b6fbb26738e3e6b8",
     "grade": true,
     "grade_id": "problem1_answers",
     "locked": false,
     "points": 1,
     "schema_version": 1,
     "solution": true
    }
   },
   "source": [
    "YOUR ANSWER HERE"
   ]
  },
  {
   "cell_type": "markdown",
   "metadata": {
    "deletable": false,
    "editable": false,
    "nbgrader": {
     "checksum": "63fba1d962a91f14cf4854d27e8b2f01",
     "grade": false,
     "grade_id": "cell-91ada5e742fd8669",
     "locked": true,
     "schema_version": 1,
     "solution": false
    }
   },
   "source": [
    "#### Done!\n",
    "\n",
    "That's it! Now you are ready to continue with [Problem 2](Exercise-4-problem-2.ipynb)."
   ]
  }
 ],
 "metadata": {
  "kernelspec": {
   "display_name": "Python 3",
   "language": "python",
   "name": "python3"
  },
  "language_info": {
   "codemirror_mode": {
    "name": "ipython",
    "version": 3
   },
   "file_extension": ".py",
   "mimetype": "text/x-python",
   "name": "python",
   "nbconvert_exporter": "python",
   "pygments_lexer": "ipython3",
   "version": "3.7.3"
  }
 },
 "nbformat": 4,
 "nbformat_minor": 2
}
